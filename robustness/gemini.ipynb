{
 "cells": [
  {
   "cell_type": "code",
   "execution_count": 3,
   "metadata": {},
   "outputs": [],
   "source": [
    "from google import genai\n",
    "from google.genai import types\n",
    "import os\n",
    "from dotenv import load_dotenv\n",
    "\n",
    "load_dotenv()\n",
    "\n",
    "\n",
    "GEMINI_API_KEY = os.getenv(\"GEMINI_API_KEY\")\n",
    "client = genai.Client(api_key=GEMINI_API_KEY)"
   ]
  },
  {
   "cell_type": "code",
   "execution_count": 22,
   "metadata": {},
   "outputs": [
    {
     "name": "stdout",
     "output_type": "stream",
     "text": [
      "entailment\n",
      "\n"
     ]
    }
   ],
   "source": [
    "prompt = 'Are the following question and sentence entailment or not_entailment? Answer me with \"entailment\" or \"not_entailment\". '\n",
    "sentence = \"The symptoms of inflammation are redness, swelling, heat, and pain, which are caused by increased blood flow into tissue.\"\n",
    "\n",
    "input_text = prompt + sentence + ' Answer: '\n",
    "\n",
    "response = client.models.generate_content(\n",
    "    model=\"gemini-1.5-flash-8b\",\n",
    "    contents=[input_text],\n",
    "    config=types.GenerateContentConfig(\n",
    "        max_output_tokens=20,\n",
    "        temperature=0.1,\n",
    "        top_k=1\n",
    "    )\n",
    ")\n",
    "\n",
    "print(response.text)"
   ]
  }
 ],
 "metadata": {
  "kernelspec": {
   "display_name": "venv",
   "language": "python",
   "name": "python3"
  },
  "language_info": {
   "codemirror_mode": {
    "name": "ipython",
    "version": 3
   },
   "file_extension": ".py",
   "mimetype": "text/x-python",
   "name": "python",
   "nbconvert_exporter": "python",
   "pygments_lexer": "ipython3",
   "version": "3.12.0"
  }
 },
 "nbformat": 4,
 "nbformat_minor": 2
}
